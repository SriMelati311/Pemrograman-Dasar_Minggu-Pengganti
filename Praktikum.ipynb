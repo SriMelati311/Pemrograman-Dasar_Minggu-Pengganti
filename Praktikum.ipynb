{
  "nbformat": 4,
  "nbformat_minor": 0,
  "metadata": {
    "colab": {
      "provenance": [],
      "authorship_tag": "ABX9TyPpmO7Jv38DroTWwoYibFZJ",
      "include_colab_link": true
    },
    "kernelspec": {
      "name": "python3",
      "display_name": "Python 3"
    },
    "language_info": {
      "name": "python"
    }
  },
  "cells": [
    {
      "cell_type": "markdown",
      "metadata": {
        "id": "view-in-github",
        "colab_type": "text"
      },
      "source": [
        "<a href=\"https://colab.research.google.com/github/SriMelati311/Pemrograman-Dasar_Minggu-Pengganti/blob/main/Praktikum.ipynb\" target=\"_parent\"><img src=\"https://colab.research.google.com/assets/colab-badge.svg\" alt=\"Open In Colab\"/></a>"
      ]
    },
    {
      "cell_type": "code",
      "execution_count": null,
      "metadata": {
        "id": "u0t0nai3BAgL",
        "colab": {
          "base_uri": "https://localhost:8080/"
        },
        "outputId": "0d0c2f22-48c9-413f-eeb6-08dfff6c5b74"
      },
      "outputs": [
        {
          "output_type": "stream",
          "name": "stdout",
          "text": [
            "Sistem siap. Selamat datang kembali di sesi praktikum.\n"
          ]
        }
      ],
      "source": [
        "# SOAL 1: Fungsi Inisialisasi Sederhana\n",
        "def sapa_praktikan(nama):\n",
        "    \"\"\"Mencetak pesan sambutan dasar.\"\"\"\n",
        "    print(f\"Sistem siap. Selamat datang kembali di sesi praktikum.\")\n",
        "\n",
        "# Pemanggilan:\n",
        "sapa_praktikan(\"Sri\")"
      ]
    },
    {
      "cell_type": "code",
      "source": [
        "# MODIFIKASI SOAL 1\n",
        "def Biodata(nama, nim, jurusan, prodi, universitas, hobi):\n",
        "    \"\"\"Menampilkan biodata lengkap praktikan.\"\"\"\n",
        "    print(\"===== BIODATA PRAKTIKAN =====\")\n",
        "    print(f\"Nama        : {nama}\")\n",
        "    print(f\"NIM         : {nim}\")\n",
        "    print(f\"Jurusan     : {jurusan}\")\n",
        "    print(f\"Prodi       : {prodi}\")\n",
        "    print(f\"Universitas : {universitas}\")\n",
        "    print(f\"Hobi        : {hobi}\")\n",
        "    print(\"==============================\")\n",
        "\n",
        "# Pemanggilan fungsi:\n",
        "Biodata(\n",
        "    nama=\"Sri Melati\",\n",
        "    nim=\"4232401025\",\n",
        "    jurusan=\"Teknik Elektro\",\n",
        "    prodi=\"Teknologi Rekayasa Pembangkit Energi\",\n",
        "    universitas=\"Politeknik Negeri Batam\",\n",
        "    hobi=\"Menyanyi\"\n",
        ")"
      ],
      "metadata": {
        "colab": {
          "base_uri": "https://localhost:8080/"
        },
        "id": "Yq_XGXmpCgUj",
        "outputId": "a1560c24-73cc-4500-e8f7-faab1b5fc1dd"
      },
      "execution_count": null,
      "outputs": [
        {
          "output_type": "stream",
          "name": "stdout",
          "text": [
            "===== BIODATA PRAKTIKAN =====\n",
            "Nama        : Sri Melati\n",
            "NIM         : 4232401025\n",
            "Jurusan     : Teknik Elektro\n",
            "Prodi       : Teknologi Rekayasa Pembangkit Energi\n",
            "Universitas : Politeknik Negeri Batam\n",
            "Hobi        : Menyanyi\n",
            "==============================\n"
          ]
        }
      ]
    },
    {
      "cell_type": "code",
      "source": [
        "# SOAL 2: Menghitung Volume kubus\n",
        "def hitung_volume_kubus(sisi):\n",
        "    \"\"\"Menghitung volume kubus dari panjang sisinya.\"\"\"\n",
        "    return sisi ** 3\n",
        "\n",
        "# Pemanggilan:\n",
        "panjang_sisi = 5\n",
        "print(f\"Volume kubus dengan sisi {panjang_sisi} adalah: {hitung_volume_kubus(panjang_sisi)}\")"
      ],
      "metadata": {
        "colab": {
          "base_uri": "https://localhost:8080/"
        },
        "id": "h_3ocUX9EeC0",
        "outputId": "412846dd-c5a9-4ddc-af4b-3824147ef526"
      },
      "execution_count": null,
      "outputs": [
        {
          "output_type": "stream",
          "name": "stdout",
          "text": [
            "Volume kubus dengan sisi 5 adalah: 125\n"
          ]
        }
      ]
    },
    {
      "cell_type": "code",
      "source": [
        "# MODIFIKASI SOAL 2\n",
        "def hitung_volume_balok(panjang, lebar, tinggi):\n",
        "    \"\"\"Menghitung volume balok dari panjang, lebar, dan tinggi.\"\"\"\n",
        "    return panjang * lebar * tinggi\n",
        "\n",
        "# Pemanggilan:\n",
        "p = 10\n",
        "l = 4\n",
        "t = 5\n",
        "print(f\"Volume balok dengan ukuran {p}x{l}x{t} adalah: {hitung_volume_balok(p, l, t)}\")"
      ],
      "metadata": {
        "colab": {
          "base_uri": "https://localhost:8080/"
        },
        "id": "G9WTUjZ5GTR5",
        "outputId": "b902298e-d502-4a94-ed11-104e3a54d511"
      },
      "execution_count": null,
      "outputs": [
        {
          "output_type": "stream",
          "name": "stdout",
          "text": [
            "Volume balok dengan ukuran 10x4x5 adalah: 200\n"
          ]
        }
      ]
    },
    {
      "cell_type": "code",
      "source": [
        "# SOAL 3: Menghitung Rata-rata dari List Nilai\n",
        "def hitung_rata_rata(data_nilai):\n",
        "    \"\"\"Menghitung rata-rata dari list angka menggunakan perulangan for.\"\"\"\n",
        "    total = 0\n",
        "\n",
        "    # Perulangan untuk menjumlahkan nilai\n",
        "    for nilai in data_nilai:\n",
        "        total += nilai\n",
        "\n",
        "    # Pembagian untuk rata-rata\n",
        "    if total > 0:\n",
        "        return total / len(data_nilai)\n",
        "    return 0\n",
        "\n",
        "# Pemanggilan:\n",
        "nilai_praktikan = [85, 78, 92, 65, 90]\n",
        "print(f\"Nilai rata-rata kelas adalah: {hitung_rata_rata(nilai_praktikan)}\")"
      ],
      "metadata": {
        "colab": {
          "base_uri": "https://localhost:8080/"
        },
        "id": "lnoLLoChG3go",
        "outputId": "27bba2bd-412f-46ea-a754-a4fd34c4f841"
      },
      "execution_count": null,
      "outputs": [
        {
          "output_type": "stream",
          "name": "stdout",
          "text": [
            "Nilai rata-rata kelas adalah: 82.0\n"
          ]
        }
      ]
    },
    {
      "cell_type": "code",
      "source": [
        "# MODIFIKASI SOAL 3\n",
        "def hitung_rata_rata(data_nilai):\n",
        "    total = 0\n",
        "    jumlah_data = 0\n",
        "\n",
        "    # Perulangan untuk menjumlahkan nilai\n",
        "    for nilai in data_nilai:\n",
        "        if nilai < 0:\n",
        "            print(f\"Nilai {nilai} diabaikan karena kurang dari 0.\")\n",
        "            continue  # lewati nilai yang tidak valid\n",
        "        elif nilai > 100:\n",
        "            print(f\"Nilai {nilai} diabaikan karena lebih dari 100.\")\n",
        "            continue  # lewati nilai yang terlalu besar\n",
        "        else:\n",
        "            total += nilai\n",
        "            jumlah_data += 1\n",
        "\n",
        "    # Menghitung rata-rata jika ada data yang valid\n",
        "    if jumlah_data > 0:\n",
        "        return total / jumlah_data\n",
        "    else:\n",
        "        return 0\n",
        "\n",
        "# Pemanggilan:\n",
        "nilai_praktikan = [85, 78, 92, 65, 90, -10, 120]\n",
        "print(f\"\\nNilai rata-rata kelas adalah: {hitung_rata_rata(nilai_praktikan)}\")"
      ],
      "metadata": {
        "colab": {
          "base_uri": "https://localhost:8080/"
        },
        "id": "aLWcHFqA2zuw",
        "outputId": "10e0e73b-8907-4b4e-d9a2-cf5d2f8ccd71"
      },
      "execution_count": null,
      "outputs": [
        {
          "output_type": "stream",
          "name": "stdout",
          "text": [
            "Nilai -10 diabaikan karena kurang dari 0.\n",
            "Nilai 120 diabaikan karena lebih dari 100.\n",
            "\n",
            "Nilai rata-rata kelas adalah: 82.0\n"
          ]
        }
      ]
    },
    {
      "cell_type": "code",
      "source": [
        "# SOAL 4: Sistem Penentuan Predikat Nilai\n",
        "def tentukan_predikat(skor):\n",
        "    \"\"\"Menentukan predikat (A, B, C, D, E) berdasarkan skor.\"\"\"\n",
        "    if skor >= 85:\n",
        "        return \"A\"\n",
        "    elif skor >= 70:\n",
        "        return \"B\"\n",
        "    elif skor >= 60:\n",
        "        return \"C\"\n",
        "    elif skor >= 50:\n",
        "        return \"D\"\n",
        "    else:\n",
        "        return \"E\"\n",
        "\n",
        "# Pemanggilan:\n",
        "print(f\"Skor 75 mendapat predikat: {tentukan_predikat(75)}\")\n",
        "print(f\"Skor 48 mendapat predikat: {tentukan_predikat(48)}\")"
      ],
      "metadata": {
        "colab": {
          "base_uri": "https://localhost:8080/"
        },
        "id": "D45UIj-_3Xkf",
        "outputId": "a47a5e95-eab1-4c5f-be6b-84ebca673eee"
      },
      "execution_count": null,
      "outputs": [
        {
          "output_type": "stream",
          "name": "stdout",
          "text": [
            "Skor 75 mendapat predikat: B\n",
            "Skor 48 mendapat predikat: E\n"
          ]
        }
      ]
    },
    {
      "cell_type": "code",
      "source": [
        "# MODIFIKASI SOAL 4\n",
        "def tentukan_predikat(skor):\n",
        "    # --- Pemeriksaan tipe data terlebih dahulu ---\n",
        "    if not isinstance(skor, (int, float)):\n",
        "        return \"Error: Nilai yang dimasukkan harus berupa angka.\"\n",
        "    # --- Pemeriksaan nilai di luar rentang normal ---\n",
        "    if skor < 0 or skor > 100:\n",
        "        return \"Error: Nilai harus berada antara 0 sampai 100.\"\n",
        "    # --- Penentuan predikat berdasarkan skor ---\n",
        "    if skor >= 85:\n",
        "        return \"A\"\n",
        "    elif skor >= 70:\n",
        "        return \"B\"\n",
        "    elif skor >= 60:\n",
        "        return \"C\"\n",
        "    elif skor >= 50:\n",
        "        return \"D\"\n",
        "    else:\n",
        "        return \"E\"\n",
        "\n",
        "\n",
        "# --- Pemanggilan fungsi ---\n",
        "print(f\"Skor 90 mendapat predikat: {tentukan_predikat(90)}\")\n",
        "print(f\"Skor 69.9 mendapat predikat: {tentukan_predikat(69.9)}\")\n",
        "print(f\"Skor 'lima puluh' mendapat predikat: {tentukan_predikat('lima puluh')}\")\n",
        "print(f\"Skor 110 mendapat predikat: {tentukan_predikat(110)}\")"
      ],
      "metadata": {
        "id": "StTvvkV17MNZ",
        "colab": {
          "base_uri": "https://localhost:8080/"
        },
        "outputId": "d81c26f5-a5fd-49fa-a177-6bdfd1ac12c0"
      },
      "execution_count": 4,
      "outputs": [
        {
          "output_type": "stream",
          "name": "stdout",
          "text": [
            "Skor 90 mendapat predikat: A\n",
            "Skor 69.9 mendapat predikat: C\n",
            "Skor 'lima puluh' mendapat predikat: Error: Nilai yang dimasukkan harus berupa angka.\n",
            "Skor 110 mendapat predikat: Error: Nilai harus berada antara 0 sampai 100.\n"
          ]
        }
      ]
    },
    {
      "cell_type": "code",
      "source": [
        "# SOAL 5: Menghitung Faktorial dengan Loop While\n",
        "def hitung_faktorial(n):\n",
        "    \"\"\"Menghitung faktorial dari bilangan positif n.\"\"\"\n",
        "    hasil = 1\n",
        "\n",
        "    # Perulangan berjalan selama n lebih besar dari 1\n",
        "    while n > 1:\n",
        "        hasil *= n\n",
        "        n -= 1  # Kurangi n\n",
        "    return hasil\n",
        "\n",
        "# Pemanggilan:\n",
        "bilangan_n = 4\n",
        "print(f\"Faktorial dari {bilangan_n} adalah: {hitung_faktorial(bilangan_n)}\")  # Output: 24"
      ],
      "metadata": {
        "colab": {
          "base_uri": "https://localhost:8080/"
        },
        "id": "lSzAWhuEIgeT",
        "outputId": "dd7de4fb-2766-44d7-b847-2a789b44000f"
      },
      "execution_count": 5,
      "outputs": [
        {
          "output_type": "stream",
          "name": "stdout",
          "text": [
            "Faktorial dari 4 adalah: 24\n"
          ]
        }
      ]
    },
    {
      "cell_type": "code",
      "source": [
        "# MODIFIKASI SOAL 5\n",
        "def hitung_faktorial(n):\n",
        "    # --- Pengecekan nilai negatif ---\n",
        "    if n < 0:\n",
        "        return \"Error: Faktorial tidak dapat dihitung untuk bilangan negatif.\"\n",
        "    # --- Kasus khusus jika n = 0 ---\n",
        "    elif n == 0:\n",
        "        return 1  # Karena 0! = 1 dalam definisi matematika\n",
        "    # --- Perhitungan faktorial ---\n",
        "    hasil = 1\n",
        "    while n > 1:\n",
        "        hasil *= n\n",
        "        n -= 1  # Kurangi nilai n setiap kali loop berjalan\n",
        "    return hasil\n",
        "\n",
        "# --- Pemanggilan fungsi untuk berbagai contoh ---\n",
        "print(f\"Faktorial dari 4 adalah: {hitung_faktorial(4)}\")   # Output: 24\n",
        "print(f\"Faktorial dari 0 adalah: {hitung_faktorial(0)}\")   # Output: 1\n",
        "print(f\"Faktorial dari -3 adalah: {hitung_faktorial(-3)}\") # Output: Error"
      ],
      "metadata": {
        "colab": {
          "base_uri": "https://localhost:8080/"
        },
        "id": "pEINLNpRWAjq",
        "outputId": "41696559-0442-40e0-fa2b-d6a4872acf3b"
      },
      "execution_count": 7,
      "outputs": [
        {
          "output_type": "stream",
          "name": "stdout",
          "text": [
            "Faktorial dari 4 adalah: 24\n",
            "Faktorial dari 0 adalah: 1\n",
            "Faktorial dari -3 adalah: Error: Faktorial tidak dapat dihitung untuk bilangan negatif.\n"
          ]
        }
      ]
    },
    {
      "cell_type": "code",
      "source": [
        "# SOAL 6: Analisis Data Suhu Ekstrem (for dan if/elif)\n",
        "def analisis_suhu(data_suhu):\n",
        "    \"\"\"Menghitung jumlah hari Panas dan Dingin dari data_suhu.\"\"\"\n",
        "    panas_count = 0\n",
        "    dingin_count = 0\n",
        "\n",
        "    for suhu in data_suhu:\n",
        "        if suhu >= 35:\n",
        "            panas_count += 1\n",
        "        elif suhu <= 15:\n",
        "            dingin_count += 1\n",
        "\n",
        "    return panas_count, dingin_count\n",
        "\n",
        "# Pemanggilan:\n",
        "suhu_mingguan = [36, 30, 14, 25, 38, 16, 28]\n",
        "jumlah_panas, jumlah_dingin = analisis_suhu(suhu_mingguan)\n",
        "print(f\"Jumlah hari Panas (>=35°C): {jumlah_panas}\")\n",
        "print(f\"Jumlah hari Dingin (<=15°C): {jumlah_dingin}\")"
      ],
      "metadata": {
        "colab": {
          "base_uri": "https://localhost:8080/"
        },
        "id": "-01apKogoC1C",
        "outputId": "9bd6b763-4538-4a6f-fdbb-53d6292f1e8c"
      },
      "execution_count": 9,
      "outputs": [
        {
          "output_type": "stream",
          "name": "stdout",
          "text": [
            "Jumlah hari Panas (>=35°C): 2\n",
            "Jumlah hari Dingin (<=15°C): 1\n"
          ]
        }
      ]
    },
    {
      "cell_type": "code",
      "source": [
        "# MODIFIKASI SOAL 6\n",
        "def analisis_suhu(data_suhu, batas_panas=35, batas_dingin=15):\n",
        "    panas_count = 0\n",
        "    dingin_count = 0\n",
        "\n",
        "    for suhu in data_suhu:\n",
        "        if suhu >= batas_panas:\n",
        "            panas_count += 1\n",
        "        elif suhu <= batas_dingin:\n",
        "            dingin_count += 1\n",
        "    return panas_count, dingin_count\n",
        "\n",
        "# Pemanggilan:\n",
        "suhu_mingguan = [36, 30, 14, 25, 38, 16, 28]\n",
        "jumlah_panas, jumlah_dingin = analisis_suhu(suhu_mingguan)\n",
        "print(f\"Jumlah hari Panas (>=35°C): {jumlah_panas}\")\n",
        "print(f\"Jumlah hari Dingin (<=15°C): {jumlah_dingin}\")"
      ],
      "metadata": {
        "colab": {
          "base_uri": "https://localhost:8080/"
        },
        "id": "rjLo90bZpGp1",
        "outputId": "2a676168-a565-4d2a-b5fb-9e7c1791b8ab"
      },
      "execution_count": 16,
      "outputs": [
        {
          "output_type": "stream",
          "name": "stdout",
          "text": [
            "Jumlah hari Panas (>=35°C): 2\n",
            "Jumlah hari Dingin (<=15°C): 1\n"
          ]
        }
      ]
    },
    {
      "cell_type": "code",
      "source": [],
      "metadata": {
        "id": "F57K6GhmqX_l"
      },
      "execution_count": null,
      "outputs": []
    }
  ]
}